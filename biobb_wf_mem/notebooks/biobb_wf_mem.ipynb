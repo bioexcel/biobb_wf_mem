{
 "cells": [
  {
   "cell_type": "markdown",
   "metadata": {},
   "source": [
    "# Protein-Membrane MD Analysis tutorial using BioExcel Building Blocks (biobb)\n",
    "\n",
    "***\n",
    "This tutorial aims to illustrate the process of **analyzing a membrane molecular dynamics (MD) simulation** using the **BioExcel Building Blocks library (biobb)**. The particular example used is the heteropentameric ligand-gated chloride channel gated by gamma-aminobutyric acid (**GABA**), a major inhibitory neurotransmitter in the brain, which was embedded in a **DPPC membrane** in the [MemProtMD](https://memprotmd.bioch.ox.ac.uk/_ref/PDB/4cof/_sim/4cof_default_dppc/) project, which trajectory is obtained from the [**MDDB**](https://mddbr.eu/), where we can find it under the [A01M6](https://irb.mddbr.eu/#/id/A01M6/overview) accession id.\n",
    "***\n",
    "\n",
    "## Settings\n",
    "\n",
    "### Biobb modules used\n",
    "\n",
    " - [biobb_io](https://github.com/bioexcel/biobb_io): Tools to fetch biomolecular data from public databases.\n",
    " - [biobb_mem](https://github.com/bioexcel/biobb_mem): Tools for membrane analysis and manipulation.\n",
    " - [biobb_analysis](https://github.com/bioexcel/biobb_analysis): Tools to analyse Molecular Dynamics trajectories.\n",
    " \n",
    "### Auxiliary libraries used\n",
    "\n",
    "* [jupyter](https://jupyter.org/): Free software, open standards, and web services for interactive computing across all programming languages.\n",
    "* [nglview](http://nglviewer.org/#nglview): Jupyter/IPython widget to interactively view molecular structures and trajectories in notebooks.\n",
    "* [plotly](https://plot.ly/python/offline/): Python interactive graphing library integrated in Jupyter notebooks.\n",
    "* [anywidget](https://anywidget.dev/en/getting-started/): Toolset for authoring reusable web-based widgets for interactive computing environments.\n",
    "\n",
    "### Conda Installation and Launch\n",
    "\n",
    "```console\n",
    "git clone https://github.com/bioexcel/biobb_wf_mem.git\n",
    "cd biobb_wf_mem\n",
    "conda env create -f conda_env/environment.yml\n",
    "conda activate biobb_wf_mem\n",
    "jupyter-notebook biobb_wf_mem/notebooks/biobb_wf_mem.ipynb\n",
    "```\n",
    "\n",
    "***\n",
    "## Pipeline steps\n",
    " 1. [Input Parameters](#input)\n",
    " 2. [Fetching Structure and Trajectory](#fetch)\n",
    " 3. [Fitting](#fitting)\n",
    " 4. [Membrane Identification with FATSLiM](#fatslim)\n",
    " 5. [Z Positions and Membrane Thickness](#thickness)\n",
    " 6. [Deuterium order parameter](#order)\n",
    " 7. [Area per lipid](#apl)\n",
    " 8. [Density Profile](#density)\n",
    " 9. [Channel Dimensions](#channel)\n",
    " 10. [Flip-flop rate](#flip-flop)\n",
    " 11. [Questions & Comments](#questions)\n",
    "\n",
    "***\n",
    "<img src=\"https://bioexcel.eu/wp-content/uploads/2019/04/Bioexcell_logo_1080px_transp.png\" alt=\"Bioexcel2 logo\"\n",
    "\ttitle=\"Bioexcel2 logo\" width=\"400\" />\n",
    "***\n"
   ]
  },
  {
   "cell_type": "markdown",
   "metadata": {},
   "source": [
    "<a id=\"input\"></a>\n",
    "## Input parameters"
   ]
  },
  {
   "cell_type": "markdown",
   "metadata": {},
   "source": [
    "**Input parameters** needed:\n",
    " - **MD_id**: MDDB id of the protein trajectory (e.g. [A01M6](https://mmb-dev.mddbr.eu/#/id/A01M6/overview)).\n",
    "- **steps**: number of frames to skip during analysis.\n",
    " - **lipid_sel**: a [MDAnalysis selection](https://docs.mdanalysis.org/stable/documentation_pages/selections.html) of the membrane headgroups on the topology.\n",
    " - **ngl_sel**: and **ngl_hd_sel**: [NGLView](http://nglviewer.org/ngl/api/manual/selection-language.html) selection to visualize the membrane.\n",
    " - **cpptraj_sel**: [cpptraj](https://amberhub.chpc.utah.edu/cpptraj/) (Ambertools) selection to visualize the membrane."
   ]
  },
  {
   "cell_type": "code",
   "execution_count": null,
   "metadata": {},
   "outputs": [],
   "source": [
    "# Common imports\n",
    "import os\n",
    "import pandas as pd\n",
    "import numpy as np\n",
    "import nglview as nv\n",
    "import MDAnalysis as mda\n",
    "import plotly.graph_objects as go\n",
    "from plotly.subplots import make_subplots\n",
    "import matplotlib.pyplot as plt\n",
    "from ipywidgets import HBox\n",
    "\n",
    "MD_id = 'A01M6'\n",
    "# MD_id = 'A023U'\n",
    "#MD_id = 'A023W'\n",
    "#MD_id = 'A023P'\n",
    "#MD_id = 'A023R'\n",
    "#steps = 1500 # zpositions tarda nada, pero hole tarda bastante. Considerar poner dos variables: step_z, step_hole.\n",
    "steps = 1\n",
    "lipid_sel = '(resname DPPC and element P)'\n",
    "ngl_sel = 'DPPC'\n",
    "cpptraj_sel = 'DPP'\n",
    "ngl_hd_sel = f'{ngl_sel} and _P'\n",
    "\n",
    "# Common arguments for all the components\n",
    "input_top_path = f'data/{MD_id}.pdb'\n",
    "input_traj_path = f'data/{MD_id}.xtc'\n",
    "\n",
    "# If you want to disable the logs, set this variable to True    \n",
    "disable_logs = True"
   ]
  },
  {
   "cell_type": "markdown",
   "metadata": {},
   "source": [
    "For the **lipid_sel**, we not only choose the residues with name **DPPC**, but also the element **P**, as this is the most charged one. Selecting only the **headgroups** make easier for the algorithms to separate the components of the **membrane**. \n",
    "\n",
    "<div style=\"text-align: center;\">\n",
    "    <img src=\"img/DPPC.png\" alt=\"DPPC\" width=\"800\"/>\n",
    "</div>\n",
    "\n",
    "If you a different trajectory with a different or more lipids, make sure to adapt the selection using [MDAnalysis selection](https://docs.mdanalysis.org/stable/documentation_pages/selections.html) syntax."
   ]
  },
  {
   "cell_type": "markdown",
   "metadata": {},
   "source": [
    "***\n",
    "<a id=\"fetch\"></a>\n",
    "## Fetching structure and trajectory"
   ]
  },
  {
   "cell_type": "markdown",
   "metadata": {},
   "source": [
    "Download the structure and trajectory data, in **PDB** and **XTC** formats respectively, from the MD using the [MDDB API](https://mmb-dev.mddbr.eu/api/rest/docs/).\n",
    "***\n",
    "**Building Blocks** used:\n",
    " - [mddb](https://biobb-io.readthedocs.io/en/latest/api.html#module-api.mddb) from **biobb_io.api.mddb**\n",
    "***"
   ]
  },
  {
   "cell_type": "code",
   "execution_count": null,
   "metadata": {},
   "outputs": [],
   "source": [
    "# Check if folders 'out' and 'data' exist and create them if not\n",
    "for folder in ['out', 'data']:\n",
    "    if not os.path.exists(folder):\n",
    "        os.makedirs(folder)\n",
    "        print(f\"Created folder: {folder}\")\n",
    "\n",
    "# Check if PDB and XTC files already exist\n",
    "pdb = f\"data/{MD_id}_10.pdb\"\n",
    "xtc = f\"data/{MD_id}_10.xtc\"\n",
    "if not os.path.exists(pdb) or not os.path.exists(xtc):\n",
    "    \n",
    "    # Download trajectory\n",
    "    # Import module\n",
    "    from biobb_io.api.mddb import mddb\n",
    "\n",
    "    # Create properties dict and inputs/outputs\n",
    "    prop = {\n",
    "        'node_id' : 'irb-dev',\n",
    "        'project_id': MD_id,\n",
    "        'trj_format': 'xtc',\n",
    "        #'frames' : '1:-1:10'\n",
    "        'frames' : '1:-1:100'\n",
    "    }\n",
    "\n",
    "    # Create and launch bb\n",
    "    mddb(output_top_path=pdb,\n",
    "         output_trj_path=xtc,\n",
    "         properties=prop)"
   ]
  },
  {
   "cell_type": "markdown",
   "metadata": {},
   "source": [
    "### Visualizing trajectory\n",
    "Visualizing the downloaded **membrane-system trajectory** using **MDAnalysis** and **NGL**:  "
   ]
  },
  {
   "cell_type": "code",
   "execution_count": null,
   "metadata": {},
   "outputs": [],
   "source": [
    "def show_membrane(universe):\n",
    "    # Visualize the trajectory\n",
    "    view_mem = nv.show_mdanalysis(universe)\n",
    "    view_mem._remote_call('setSize', target='Widget', args=['400px','400px'])\n",
    "    view_mem.clear_representations()\n",
    "    view_mem.add_representation('cartoon', selection='all')\n",
    "    \n",
    "    # Visualize only the lipids (orange) with the headgroups highlighted (red)\n",
    "    view_mem.add_representation('licorice', selection=ngl_sel, color='orange') # lipids\n",
    "    view_mem.add_representation('spacefill', selection=ngl_hd_sel, color='red', radius=0.9) # headgroups\n",
    "    view_mem.control.spin([1, 0, 0], -1.57)  # Align xy\n",
    "    view_mem.camera='orthographic'\n",
    "    return view_mem"
   ]
  },
  {
   "cell_type": "code",
   "execution_count": null,
   "metadata": {},
   "outputs": [],
   "source": [
    "# Load the trajectory\n",
    "u_prefit = mda.Universe(pdb, xtc)\n",
    "show_membrane(u_prefit)"
   ]
  },
  {
   "cell_type": "markdown",
   "metadata": {},
   "source": [
    "As you can see, the trajectory is fit to minimize the movement and rotation of the protein. In consecuence, the membrane seems to be moving a lot."
   ]
  },
  {
   "cell_type": "markdown",
   "metadata": {},
   "source": [
    "<a id=\"fitting\"></a>\n",
    "***\n",
    "## Fitting the membrane"
   ]
  },
  {
   "cell_type": "markdown",
   "metadata": {},
   "source": [
    "**Membrane analyses** typically assume that the **membrane** system is **aligned** with the **xy plane** and the **thickness** with the **z axis**.\n",
    "\n",
    "<div style=\"text-align: center;\">\n",
    "    <img src=\"img/membrane_placement2.png\" alt=\"Membrane Placement\" width=\"400\"></img>\n",
    "</div>\n",
    "\n",
    "In this example, **BioBB GROMACS** tools are used to properly **align** the system. \n",
    "\n",
    "***\n",
    "**Building Blocks** used:\n",
    " - [GMXImage](https://biobb-analysis.readthedocs.io/en/latest/gromacs.html#module-gromacs.gmx_image) from **biobb_analysis.gromacs.gmx_image** \n",
    "***"
   ]
  },
  {
   "cell_type": "code",
   "execution_count": null,
   "metadata": {
    "scrolled": true
   },
   "outputs": [],
   "source": [
    "# We fit the trajectory to the membrane so the z axis is aligned with the membrane\n",
    "# Import module\n",
    "from biobb_analysis.gromacs.gmx_image import gmx_image\n",
    "\n",
    "# Create properties dict and inputs/outputs\n",
    "memb_fit = 'data/fit.xtc'\n",
    "\n",
    "prop = {\n",
    "    'fit_selection': 'DPPC',\n",
    "    'output_selection': 'System',\n",
    "    'center': False,\n",
    "    'fit': 'rot+trans'\n",
    "}\n",
    "\n",
    "# Create and launch bb\n",
    "gmx_image(input_traj_path=xtc,\n",
    "            input_top_path=pdb,\n",
    "            output_traj_path=memb_fit,\n",
    "            properties=prop)"
   ]
  },
  {
   "cell_type": "code",
   "execution_count": null,
   "metadata": {
    "scrolled": true
   },
   "outputs": [],
   "source": [
    "# We fit again transxy to the protein so it does not shake due to lipids going through the pbc\n",
    "\n",
    "memb_fit_xy = 'data/fit2.xtc'\n",
    "\n",
    "# Create properties dict and inputs/outputs\n",
    "prop = {\n",
    "    'fit_selection': 'Backbone',\n",
    "    'output_selection': 'System',\n",
    "    'center': False,\n",
    "    'fit': 'transxy'\n",
    "}\n",
    "\n",
    "# Create and launch bb\n",
    "gmx_image(input_traj_path=memb_fit,\n",
    "            input_top_path=pdb,\n",
    "            output_traj_path=memb_fit_xy,\n",
    "            properties=prop)"
   ]
  },
  {
   "cell_type": "code",
   "execution_count": null,
   "metadata": {},
   "outputs": [],
   "source": [
    "u = mda.Universe(pdb, memb_fit_xy)\n",
    "# Trajectory before and after fitting to the membrane\n",
    "HBox([show_membrane(u_prefit),show_membrane(u)])"
   ]
  },
  {
   "cell_type": "markdown",
   "metadata": {},
   "source": [
    "<a id=\"fatslim\"></a>\n",
    "***\n",
    "## Membrane identification with FATSLiM & Lipyphilic"
   ]
  },
  {
   "cell_type": "markdown",
   "metadata": {},
   "source": [
    "**Membrane** and **leaflets** automatic identification.<br>\n",
    "**Biological membranes** (e.g. cell membranes) are typically made up of a **phospholipid bilayer**. This **bilayer** consists of two layers (or **leaflets**) of **lipid molecules**:\n",
    "\n",
    "- **Outer leaflet**: Faces the **extracellular environment** (outside the cell)\n",
    "\n",
    "- **Inner leaflet**: Faces the **cytoplasm** (inside the cell)\n",
    "\n",
    "Each **leaflet** can be composed of various **lipids**, **proteins**, and **carbohydrates**. <br>\n",
    "\n",
    "**FATSLiM** and **Lipyphilic** tools help us to automatically identify the **leaflets**.\n",
    "***\n",
    "**Building Blocks** used:\n",
    " - [FatslimMembranes](https://biobb-mem.readthedocs.io/en/latest/fatslim.html#module-fatslim.fatslim_membranes) from **biobb_mem.fatslim.fatslim_membranes**\n",
    " - [LPPAssignLeaflets](https://biobb-mem.readthedocs.io/en/latest/lipyphilic_biobb.html#module-lipyphilic_biobb.lpp_assign_leaflets) from **biobb_mem.lipyphilic_biobb.lpp_assign_leaflets**\n",
    "***"
   ]
  },
  {
   "cell_type": "markdown",
   "metadata": {},
   "source": [
    "### FATSLiM leaflets identification\n",
    "**FATSLiM** automatically identifies **membrane leaflets** and generates a **GROMACS** index file with this information."
   ]
  },
  {
   "cell_type": "code",
   "execution_count": null,
   "metadata": {},
   "outputs": [],
   "source": [
    "# Import module\n",
    "# Analysis functionlipid_sel = '(resname DPPC and name P8)'\n",
    "from biobb_mem.fatslim.fatslim_membranes import fatslim_membranes\n",
    "\n",
    "# Create properties dict and inputs/outputs\n",
    "leaflets_ndx = \"out/leaflets.ndx\"\n",
    "\n",
    "prop = {\n",
    "    'selection': lipid_sel,\n",
    "    'cutoff': 2.2,\n",
    "    'ignore_no_box': True\n",
    "}\n",
    "\n",
    "# Create and launch bb\n",
    "fatslim_membranes(input_top_path=pdb,\n",
    "                  #input_traj_path=memb_fit_xy,\n",
    "                  input_traj_path=xtc,\n",
    "                  output_ndx_path=leaflets_ndx,\n",
    "                  properties=prop)"
   ]
  },
  {
   "cell_type": "markdown",
   "metadata": {},
   "source": [
    "### Extract leaflets\n",
    "The previous function generated a **GROMACS** index file (ndx). To extract the **lipids** in each **leaflet** from this file, we can use the <code>parse_index</code> auxiliary function.\n",
    "These **atom indexes** can be used to select the **lipids** in the **membrane**. "
   ]
  },
  {
   "cell_type": "code",
   "execution_count": null,
   "metadata": {},
   "outputs": [],
   "source": [
    "from biobb_mem.fatslim.fatslim_membranes import parse_index\n",
    "\n",
    "leaflets_dict = parse_index(leaflets_ndx)\n",
    "\n",
    "for leaflet in leaflets_dict.keys():\n",
    "    print(f\"Leaflet found: {leaflet}\")\n",
    "    #print(f\"Atoms:  {leaflets_dict[leaflet]}\")"
   ]
  },
  {
   "cell_type": "markdown",
   "metadata": {},
   "source": [
    "### Visualizing leaflets\n",
    "Visualizing the automatically identified **leaflets**.<br>\n",
    "Note that there is one **lipid** that is not in a **leaflet** (red coloured). This analysis can be then used as a **quality check** or in case we may want to ignore this **lipid** for the rest of the analyses."
   ]
  },
  {
   "cell_type": "code",
   "execution_count": null,
   "metadata": {},
   "outputs": [],
   "source": [
    "view = nv.show_structure_file(pdb)\n",
    "view.clear_representations()\n",
    "view.add_representation('cartoon', selection='all')\n",
    "view.add_representation('licorice',selection=leaflets_dict['membrane_1_leaflet_1'], color='blue') # leaflet 1\n",
    "view.add_representation('licorice',selection=leaflets_dict['membrane_1_leaflet_2'], color='cyan') # leaflet 2\n",
    "view.add_representation('spacefill',selection=ngl_hd_sel, color='red', radius=0.9) # headgroups\n",
    "#view.add_representation('spacefill',selection='2240', color='red') # lipid outlier\n",
    "view.control.spin([1, 0, 0], -1.57)  # Align xy\n",
    "view.layout.height = '500px'\n",
    "view"
   ]
  },
  {
   "cell_type": "markdown",
   "metadata": {},
   "source": [
    "### Lipyphilic leaflets identification\n",
    "**Lipyphilic** assumes a **plane membrane**, is able to assign leafleats for **every frame** and use this information for **flip-flop** analysis.<br>"
   ]
  },
  {
   "cell_type": "code",
   "execution_count": null,
   "metadata": {},
   "outputs": [],
   "source": [
    "# Import module\n",
    "from biobb_mem.lipyphilic_biobb.lpp_assign_leaflets import lpp_assign_leaflets\n",
    "\n",
    "# Create properties dict and inputs/outputs\n",
    "prop = {\n",
    "    'lipid_sel': lipid_sel,\n",
    "    #'steps': 10,\n",
    "    'steps': steps,\n",
    "    #'disable_logs': disable_logs\n",
    "}\n",
    "\n",
    "# Create and launch bb\n",
    "lpp_assign_leaflets(input_top_path=pdb,\n",
    "                    input_traj_path=memb_fit_xy,\n",
    "                    output_leaflets_path= 'out/leaflets_data.csv',\n",
    "                    properties=prop)"
   ]
  },
  {
   "cell_type": "markdown",
   "metadata": {},
   "source": [
    "### Visualizing leaflets\n",
    "Visualizing the automatically identified **leaflets**.<br>"
   ]
  },
  {
   "cell_type": "code",
   "execution_count": null,
   "metadata": {},
   "outputs": [],
   "source": [
    "# Leaflets visualization\n",
    "from biobb_mem.lipyphilic_biobb.lpp_assign_leaflets import display_nglview\n",
    "view = display_nglview(pdb, 'out/leaflets_data.csv')\n",
    "view.control.spin([0, 1, 0], -1.57)\n",
    "view"
   ]
  },
  {
   "cell_type": "markdown",
   "metadata": {},
   "source": [
    "<a id=\"thickness\"></a>\n",
    "***\n",
    "## Z positions and membrane thickness"
   ]
  },
  {
   "cell_type": "markdown",
   "metadata": {},
   "source": [
    "Calculating the **z distance** of **lipids** to the **bilayer center**.<br>\n",
    "**Membrane thickness** and **local distortion** can be extracted from the **z-position** data. This information can also be used to compare **membrane thickness** in different regions, such as areas in contact with the **protein** versus the rest of the membrane.\n",
    "***\n",
    "**Building Blocks** used:\n",
    " - [LPPZPositions](https://biobb-mem.readthedocs.io/en/latest/lipyphilic_biobb.html#module-lipyphilic_biobb.lpp_zpositions) from **biobb_mem.lipyphilic_biobb.lpp_zpositions**\n",
    "***"
   ]
  },
  {
   "cell_type": "markdown",
   "metadata": {},
   "source": [
    "### Selecting protein-membrane region\n",
    "\n",
    "Selecting the **membrane area** in contact with the **protein**."
   ]
  },
  {
   "cell_type": "code",
   "execution_count": null,
   "metadata": {},
   "outputs": [],
   "source": [
    "# We use MDAnalysis to select a region around the protein\n",
    "# https://docs.mdanalysis.org/stable/documentation_pages/selections.html#geometric\n",
    "around_sel = '(cyzone 50 70 -50 protein)'\n",
    "around_resnums = u.select_atoms(around_sel).resnums\n",
    "# Visualization of the selection in green\n",
    "view = nv.show_mdanalysis(u)\n",
    "view.clear_representations()\n",
    "view.add_point(selection=ngl_sel, color='red')\n",
    "view.add_point(selection=f'({\", \".join(map(str, around_resnums))}) and not protein', color='green')\n",
    "view.add_point(selection='protein', color='blue')\n",
    "view"
   ]
  },
  {
   "cell_type": "markdown",
   "metadata": {},
   "source": [
    "### Computing z-distances\n",
    "Computing **z-positions** for both: **whole membrane** and the membrane region in contact with the **protein**"
   ]
  },
  {
   "cell_type": "code",
   "execution_count": null,
   "metadata": {},
   "outputs": [],
   "source": [
    "# Run the analysis on the whole membrane\n",
    "# Import module\n",
    "from biobb_mem.lipyphilic_biobb.lpp_zpositions import lpp_zpositions\n",
    "\n",
    "# Create properties dict and inputs/outputs\n",
    "prop = {\n",
    "    'lipid_sel': lipid_sel,\n",
    "    #'steps': 1,\n",
    "    'steps': steps,\n",
    "    'height_sel': lipid_sel,\n",
    "    'ignore_no_box': True,\n",
    "    'disable_logs': disable_logs\n",
    "}\n",
    "\n",
    "# Create and launch bb\n",
    "lpp_zpositions(input_top_path=pdb,\n",
    "               input_traj_path=memb_fit_xy,\n",
    "               output_positions_path='out/zpositions.csv',\n",
    "               properties=prop)"
   ]
  },
  {
   "cell_type": "code",
   "execution_count": null,
   "metadata": {},
   "outputs": [],
   "source": [
    "# Run the analysis on the selection around the protein\n",
    "\n",
    "# Create properties dict and inputs/outputs\n",
    "prop = {\n",
    "    'lipid_sel': lipid_sel,\n",
    "    #'steps': 1,\n",
    "    'steps': steps,\n",
    "    'height_sel': f'{lipid_sel} and {around_sel}',\n",
    "    'ignore_no_box': True,\n",
    "    'disable_logs': disable_logs\n",
    "}\n",
    "\n",
    "# Create and launch bb\n",
    "lpp_zpositions(input_top_path=pdb,\n",
    "            input_traj_path=memb_fit_xy,\n",
    "            output_positions_path='out/zpositions_around.csv',\n",
    "            properties=prop)"
   ]
  },
  {
   "cell_type": "markdown",
   "metadata": {},
   "source": [
    "### Plotting the thickness of the membrane\n",
    "Mean **z-position** values for the **positive** (upper leaflet) and **negative** (bottom leaflet) sides are plotted, along with the **membrane thickness** calculated as their difference. Solid lines represent the **entire membrane**, while dashed lines indicate the region in contact with the **protein**. The **standard deviation** of the **thickness** is shown as a grey shaded area."
   ]
  },
  {
   "cell_type": "code",
   "execution_count": null,
   "metadata": {},
   "outputs": [],
   "source": [
    "from biobb_mem.lipyphilic_biobb.lpp_zpositions import frame_df\n",
    "\n",
    "grouped = frame_df('out/zpositions.csv')\n",
    "around = frame_df('out/zpositions_around.csv')\n",
    "plt.figure(figsize=(10, 6))\n",
    "# Plot the mean positive and mean negative z positions\n",
    "plt.plot(grouped['mean_positive'], label='Mean Positive', linestyle='-', color='blue')\n",
    "plt.plot(around['mean_positive'], label='Mean Positive 5A around protein', linestyle='--', color='blue')\n",
    "plt.plot(grouped['mean_negative'], label='Mean Negative', linestyle='-', color='red')\n",
    "plt.plot(around['mean_negative'], label='Mean Negative 5A around protein', linestyle='--', color='red')\n",
    "plt.plot(grouped['thickness'], label='Thickness', linestyle='-', color='green')\n",
    "plt.plot(around['thickness'], label='Thickness 5A around protein', linestyle='--', color='green')\n",
    "plt.fill_between(grouped.index, grouped['thickness'] - grouped['std_thickness'], grouped['thickness'] + grouped['std_thickness'], color='green', alpha=0.2, label='Thickness ± Std')\n",
    "plt.title('Scatter Plot of Mean Positive and Mean Negative Z Positions')\n",
    "plt.ylabel('Z Position (Å)'); plt.xlabel('Frame')\n",
    "plt.legend(loc='center left', bbox_to_anchor=(1., 0.5), ncol=1, fancybox=True, shadow=True)\n",
    "plt.show()\n"
   ]
  },
  {
   "cell_type": "markdown",
   "metadata": {},
   "source": [
    "### Representing and animating the local distorsion\n",
    "\n",
    "The **z-positions** are used to create an **animation** illustrating **lipid displacements** from the **mean distance** for both the **upper** and **bottom leaflets** of the **membrane bilayer**. **Lipids** that are **below** the **mean distance** are colored in **blue**, while those **above** the **mean** are colored in **red**."
   ]
  },
  {
   "cell_type": "code",
   "execution_count": null,
   "metadata": {},
   "outputs": [],
   "source": [
    "# Custom coloring scheme for the lipids with JavaScript\n",
    "# https://projects.volkamerlab.org/teachopencadd/talktorials/T017_advanced_nglview_usage.html#Custom-coloring-schemes-and-representations\n",
    "template = \"\"\"\n",
    "this.atomColor = function(atom) {\n",
    "    let zPos = atom.z - %(midplane_z)f;\n",
    "    let std = %(factor)f * %(std)f;\n",
    "    let ratio, r, g, b, layerZ;\n",
    "    \n",
    "    if (zPos > 0) { // top leaflet\n",
    "        layerZ = %(top_z)f;\n",
    "    } else { // bottom leaflet\n",
    "        layerZ = -1 * %(bot_z)f;\n",
    "        zPos = -zPos;\n",
    "    }\n",
    "    \n",
    "    if (zPos >= layerZ) { // thickening\n",
    "        ratio = (zPos - layerZ) / std;\n",
    "        ratio = Math.min(1, ratio);\n",
    "        r = Math.floor(255 * (1 - ratio));\n",
    "        g = Math.floor(255 * (1 - ratio)); \n",
    "        b = 255;\n",
    "    } else { // thinning\n",
    "        ratio = -(zPos - layerZ) / std;\n",
    "        ratio = Math.min(1, ratio);\n",
    "        r = 255;\n",
    "        g = Math.floor(255 * (1 - ratio));\n",
    "        b = Math.floor(255 * (1 - ratio));\n",
    "    }\n",
    "    return (r << 16) + (g << 8) + b;\n",
    "}\n",
    "\"\"\"\n",
    "\n",
    "# Calculate the mean positive and negative (top and bottom leaflets) z positions \n",
    "# wrt the midplane of the membrane, and the standard deviation of the thickness.\n",
    "top_z = grouped['mean_positive'].mean()\n",
    "bot_z = grouped['mean_negative'].mean()\n",
    "std   = grouped['std_thickness'].mean()\n",
    "top_z, bot_z, std\n",
    "\n",
    "# Calculate the mean z position of midplane wrt the box axis.\n",
    "midplane_z = [u.trajectory[i].positions[u.select_atoms(lipid_sel).indices].mean(axis=0)[2] for i in range(0, u.trajectory.n_frames, steps)]\n",
    "def on_frame_change(change):\n",
    "    frame = change['new']\n",
    "    # We use the midplane  \n",
    "    subframe = frame // steps\n",
    "    js_function_combined = template % {\n",
    "        'factor': 3, # Factor to increase the color fade\n",
    "        'midplane_z': midplane_z[subframe],\n",
    "        'std': std,\n",
    "        'top_z': top_z,\n",
    "        'bot_z': bot_z\n",
    "    }\n",
    "    # We have to change the color registry name to trigger the update\n",
    "    nm = \"local_dist\"+str(frame) # One color per frame\n",
    "    nv.color.ColormakerRegistry.add_scheme_func(nm, js_function_combined)\n",
    "    view.update_ball_and_stick(color=nm)"
   ]
  },
  {
   "cell_type": "code",
   "execution_count": null,
   "metadata": {},
   "outputs": [],
   "source": [
    "# Play the animation to see the color change\n",
    "# RED: Thinning, BLUE: Thickening\n",
    "\n",
    "view = nv.show_mdanalysis(u)\n",
    "view.clear_representations()\n",
    "view.add_ball_and_stick(selection=ngl_hd_sel,aspect_ratio=8)\n",
    "view.add_cartoon(selection='protein', color='grey')\n",
    "view.layout.height = '500px'\n",
    "view.background = 'grey'\n",
    "\n",
    "view.observe(on_frame_change, names=['frame'])\n",
    "view"
   ]
  },
  {
   "cell_type": "markdown",
   "metadata": {},
   "source": [
    "<a id=\"order\"></a>\n",
    "***\n",
    "## Deuterium order parameter"
   ]
  },
  {
   "cell_type": "markdown",
   "metadata": {},
   "source": [
    "Calculating deuterium order parameter of acyl tails in a lipid bilayer using [gmx order](https://manual.gromacs.org/current/onlinehelp/gmx-order.html). <br>\n",
    "This tool only works for saturated carbons and united atom force fields\n",
    "***\n",
    "**Building Blocks** used:\n",
    " - [GMXOrder](https://biobb-mem.readthedocs.io/en/latest/gromacs.html#module-gromacs.gmx_order) from **from biobb_mem.gromacs.gmx_order**\n",
    "***"
   ]
  },
  {
   "cell_type": "code",
   "execution_count": null,
   "metadata": {},
   "outputs": [],
   "source": [
    "# TODO: meter en biobb_io.mddb\n",
    "\n",
    "input_tpr_path = f'data/{MD_id}.tpr'\n",
    "import requests\n",
    "if not os.path.exists(input_tpr_path): \n",
    "    # Download TPR\n",
    "    headers = {'accept': 'application/octet-stream'}\n",
    "    url = f'https://irb.mddbr.eu/api/rest/v1/projects/{MD_id}/files/topology.tpr'\n",
    "    response = requests.get(url, headers=headers)\n",
    "    if response.status_code == 200:\n",
    "        tpr_content = response.content\n",
    "        with open(input_tpr_path, 'wb') as tpr_file:\n",
    "            tpr_file.write(tpr_content)\n",
    "        print(f\"Saved TPR file\")\n",
    "    else:\n",
    "        print(f\"Error for the TPR file: {response.status_code}\")\n",
    "\n",
    "# Al usar 10 frames de la trayectoria el API use la conversión de bin a xtc \n",
    "# donde se pierde información de las dimensiones de la box y muchos analisis de\n",
    "# membrana fallan. Hay que descargar la trajectoria completa, que esta usa el\n",
    "# xtc original donde si están las dimensiones de la caja\n",
    "\n",
    "if not os.path.exists(input_traj_path): \n",
    "    # Download XTC\n",
    "    headers2 = {'accept': 'application/octet-stream'}\n",
    "    url2= f'https://irb.mddbr.eu/api/rest/v1/projects/{MD_id}/files/trajectory.xtc'\n",
    "    response2 = requests.get(url2, headers=headers2)\n",
    "    if response2.status_code == 200:\n",
    "        xtc_content = response2.content\n",
    "        with open(input_traj_path, 'wb') as xtc_file:\n",
    "            xtc_file.write(xtc_content)\n",
    "        print(f\"Saved XTC file\")\n",
    "    else:\n",
    "        print(f\"Error for the XTC file: {response2.status_code}\")"
   ]
  },
  {
   "cell_type": "code",
   "execution_count": null,
   "metadata": {},
   "outputs": [],
   "source": [
    "with mda.selections.gromacs.SelectionWriter('data/sn1.ndx', mode='w') as ndx:\n",
    "        for i in range(15,32):\n",
    "            if i==16: continue\n",
    "            ndx.write(u.select_atoms(f'resname DPPC and name C{i}'), name=f'C{i}')\n",
    "\n",
    "with mda.selections.gromacs.SelectionWriter('data/sn2.ndx', mode='w') as ndx:\n",
    "    for i in range(34,51):\n",
    "        if i==35: continue\n",
    "        ndx.write(u.select_atoms(f'resname DPPC and name C{i}'), name=f'C{i}')"
   ]
  },
  {
   "cell_type": "code",
   "execution_count": null,
   "metadata": {},
   "outputs": [],
   "source": [
    "from biobb_mem.gromacs.gmx_order import gmx_order\n",
    "\n",
    "prop = {\n",
    "    'd':'z',\n",
    "}\n",
    "\n",
    "gmx_order(input_top_path=input_tpr_path,\n",
    "          input_traj_path=memb_fit,\n",
    "          input_index_path='data/sn1.ndx',\n",
    "          output_deuter_path='out/deuter_sn1.xvg',\n",
    "          properties=prop)\n",
    "\n",
    "gmx_order(input_top_path=input_tpr_path,\n",
    "          input_traj_path=memb_fit,\n",
    "          input_index_path='data/sn2.ndx',\n",
    "          output_deuter_path='out/deuter_sn2.xvg',\n",
    "          properties=prop)"
   ]
  },
  {
   "cell_type": "code",
   "execution_count": null,
   "metadata": {},
   "outputs": [],
   "source": [
    "# Read the XVG file\n",
    "data = np.loadtxt('out/deuter_sn1.xvg', comments=['@', '#'])\n",
    "data2 = np.loadtxt('out/deuter_sn2.xvg', comments=['@', '#'])\n",
    "\n",
    "# Plot the data\n",
    "plt.figure(figsize=(10, 4))\n",
    "plt.plot(data[:, 0]+1, data[:, 1])\n",
    "plt.plot(data2[:, 0]+1, data2[:, 1])\n",
    "plt.xlabel('C'); plt.ylabel('SCC')\n",
    "plt.title('Deuterium Order Parameters')\n",
    "\n",
    "# It is not possible to compute -SCD for terminal carbon atoms, \n",
    "# as they lack neighboring atoms from which the local molecular \n",
    "# axis is computed\n",
    "plt.ylim(0,.4); plt.xlim(2,15)\n",
    "plt.xticks(range(2,16))\n",
    "plt.legend(['sn1','sn2'])\n",
    "plt.grid(True); plt.show()"
   ]
  },
  {
   "cell_type": "markdown",
   "metadata": {},
   "source": [
    "<a id=\"apl\"></a>\n",
    "***\n",
    "## Area per lipid"
   ]
  },
  {
   "cell_type": "markdown",
   "metadata": {},
   "source": [
    "Area per lipid via a 2D Voronoi tessellation.<br>\n",
    "While diving the space for the lipids we remove the area correspoding to protein molecules.\n",
    "***\n",
    "**Building Blocks** used:\n",
    " - [FatslimAPL](https://biobb-mem.readthedocs.io/en/latest/fatslim.html#module-fatslim.fatslim_apl) from **biobb_mem.fatslim.fatslim_apl**\n",
    "***"
   ]
  },
  {
   "cell_type": "code",
   "execution_count": null,
   "metadata": {},
   "outputs": [],
   "source": [
    "from biobb_mem.fatslim.fatslim_apl import fatslim_apl\n",
    "\n",
    "prop = {\n",
    "    'lipid_selection': lipid_sel,\n",
    "    'protein_selection': 'protein and not element H',\n",
    "    'ignore_no_box': True,\n",
    "}\n",
    "fatslim_apl(input_top_path=pdb,\n",
    "            input_traj_path=memb_fit,\n",
    "            output_csv_path='out/apl.csv',\n",
    "            properties=prop)"
   ]
  },
  {
   "cell_type": "code",
   "execution_count": null,
   "metadata": {},
   "outputs": [],
   "source": [
    "# Load the data\n",
    "df = pd.read_csv('out/apl.csv')\n",
    "\n",
    "# Scatter plot of spatial distribution\n",
    "plt.figure(figsize=(8,6))\n",
    "plt.scatter(df['X coords'], df['Y coords'], c=df['Area per lipid'], cmap='viridis')\n",
    "plt.colorbar(label='Area per lipid')\n",
    "plt.xlabel('X coordinates'); plt.ylabel('Y coordinates')\n",
    "plt.title('Spatial Distribution of Area per Lipid')\n",
    "plt.show()"
   ]
  },
  {
   "cell_type": "code",
   "execution_count": null,
   "metadata": {},
   "outputs": [],
   "source": [
    "from scipy.interpolate import griddata\n",
    "\n",
    "def plot_apl(output_csv_path, hist=False, res=70j):\n",
    "    \"\"\"Create a 2D visualization of the area per lipid for both membrane leaflets.\n",
    "\n",
    "    This function reads area per lipid data from a CSV file, creates interpolated \n",
    "    2D maps for both upper and lower leaflets, and displays them side-by-side.\n",
    "\n",
    "    Parameters\n",
    "    ----------\n",
    "    output_csv_path : str\n",
    "        Path to the CSV file containing area per lipid data\n",
    "    hist : bool, optional\n",
    "        If True, use imshow for visualization, otherwise use contourf (default False)\n",
    "    res : complex, optional\n",
    "        Grid resolution for interpolation (default 70j)\n",
    "\n",
    "    Returns\n",
    "    -------\n",
    "    list\n",
    "        List of interpolated grids for upper and lower leaflets\n",
    "    \"\"\"\n",
    "    df = pd.read_csv(output_csv_path)\n",
    "    grids = []\n",
    "    # Create separate plots for each leaflet\n",
    "    fig, (ax1, ax2) = plt.subplots(1, 2, figsize=(15,5), sharey=True, sharex=True)\n",
    "    m = df['Area per lipid'].median()\n",
    "    s = df['Area per lipid'].std()\n",
    "    vmin, vmax = max(0, m-s), m+s\n",
    "    # Define common grid for both plots\n",
    "    x_all = df['X coords']\n",
    "    y_all = df['Y coords']\n",
    "    grid_x, grid_y = np.mgrid[min(x_all):max(x_all):res,\n",
    "                             min(y_all):max(y_all):res]\n",
    "    for ax, leaflet in zip([ax1, ax2], ['upper leaflet','lower leaflet']):\n",
    "        df_leaflet = df[df['leaflet'] == leaflet]\n",
    "        points = np.stack((np.array(df_leaflet['X coords']).T, np.array(df_leaflet['Y coords']).T), axis=-1)\n",
    "        values = np.array(df_leaflet['Area per lipid'])\n",
    "        grid = griddata(points, values, (grid_x, grid_y), method='cubic')\n",
    "        grids.append(grid)\n",
    "        # Plot map\n",
    "        if hist:\n",
    "            im = ax.imshow(grid, extent=[min(x_all), max(x_all), min(y_all), max(y_all)], \n",
    "                  origin='lower', vmin=vmin, vmax=vmax, cmap='coolwarm_r')\n",
    "        else:\n",
    "            im = ax.contourf(grid_x, grid_y, grid, vmin=vmin, vmax=vmax, cmap='coolwarm_r')\n",
    "        plt.colorbar(im, ax=ax)\n",
    "        ax.set_title(f'Area per lipid - {leaflet}')\n",
    "        ax.set_xlabel(\"Box X (nm)\")\n",
    "        ax.set_ylabel(\"Box Y (nm)\" if ax == ax1 else \"\")\n",
    "    plt.tight_layout()\n",
    "    return grids"
   ]
  },
  {
   "cell_type": "code",
   "execution_count": null,
   "metadata": {},
   "outputs": [],
   "source": [
    "grid = plot_apl('out/apl.csv', hist=True)"
   ]
  },
  {
   "cell_type": "markdown",
   "metadata": {},
   "source": [
    "<a id=\"density\"></a>\n",
    "***\n",
    "## Density profile"
   ]
  },
  {
   "cell_type": "markdown",
   "metadata": {},
   "source": [
    "**Membrane density** refers to the spatial distribution of atoms, molecules, or mass within a **lipid bilayer** typically measured along the **membrane normal** (usually the **z-axis**).\n",
    "\n",
    "**Membrane density** is calculated over the **z-axis** here with **cpptraj** tool from **AmberTools** and using the [AMBER selection masks](https://amberhub.chpc.utah.edu/atom-mask-selection-syntax/).<br>\n",
    "***\n",
    "**Building Blocks** used:\n",
    " - [CpptrajDensity](https://biobb-mem.readthedocs.io/en/latest/ambertools.html#module-ambertools.cpptraj_density) from **biobb_mem.ambertools.cpptraj_density**\n",
    "***"
   ]
  },
  {
   "cell_type": "code",
   "execution_count": null,
   "metadata": {},
   "outputs": [],
   "source": [
    "# Import module\n",
    "from biobb_mem.ambertools.cpptraj_density import cpptraj_density\n",
    "\n",
    "cpptraj_mask = f\":{cpptraj_sel} !:{cpptraj_sel} :{cpptraj_sel}@P8\"\n",
    "print(f\"CPPTRAJ mask for {{membrane - non-membrane - headgroups}}: {cpptraj_mask}\")\n",
    "\n",
    "# Create properties dict and inputs/outputs\n",
    "prop = {\n",
    "    'mask': cpptraj_mask,\n",
    "    #'steps': 1,\n",
    "    'steps': steps,\n",
    "    'disable_logs': disable_logs,\n",
    "    'remove_tmp': False\n",
    "    \n",
    "}\n",
    "\n",
    "# Create and launch bb\n",
    "cpptraj_density(input_top_path=pdb,\n",
    "                input_traj_path=memb_fit_xy,\n",
    "                output_cpptraj_path='out/density.dat', \n",
    "                properties=prop)"
   ]
  },
  {
   "cell_type": "markdown",
   "metadata": {},
   "source": [
    "### Visualizing system densities\n",
    "\n",
    "Visualizing the **protein**, **membrane** and **P8 densities** for the system along the **z-axis**. The corresponding molecular structure is displayed using **NGL** in the same orientation as the 2D-plot, allowing for direct spatial comparison between the **structural** and **density** representations.<br>"
   ]
  },
  {
   "cell_type": "code",
   "execution_count": null,
   "metadata": {},
   "outputs": [],
   "source": [
    "# NGL viewer\n",
    "view = nv.show_file(pdb)\n",
    "df = pd.read_csv(f'out/density.dat', sep='\\s+')\n",
    "labels = ['Membrane','Protein','P8']\n",
    "\n",
    "# Plotly 2D plot\n",
    "axis = df.columns[0] # Axis the density was calculated on\n",
    "cls = df.columns[1:] # Masks used \n",
    "fig = make_subplots(rows=1, cols=1, subplot_titles=['Density along z-axis'])\n",
    "\n",
    "# Iterate over the columns\n",
    "for i in range(0,len(cls),2): # Density of each mask\n",
    "    fig.add_trace(go.Scatter(x=df[axis], y=df[cls[i]], mode='lines', name=labels[i // 2]), row=1, col=1)\n",
    "\n",
    "# Standard deviation\n",
    "for i in range(1,len(cls)+1,2): \n",
    "    # Add a transparent line plot for the standard deviation\n",
    "    fig.add_trace(go.Scatter(x=df[axis], y=df[cls[i-1]] - df[cls[i]], mode='lines', fill=None, showlegend=False, line=dict(color='rgba(0,0,0,0)')), row=1, col=1)\n",
    "    fig.add_trace(go.Scatter(x=df[axis], y=df[cls[i-1]] + df[cls[i]], mode='lines', fill='tonexty', name=f'{labels[i // 2]} STD', line=dict(color='rgba(0,0,0,0)'), fillcolor='rgba(0,100,80,0.2)'), row=1, col=1)\n",
    "    \n",
    "fig.update_layout(\n",
    "    xaxis_title='Å', \n",
    "    yaxis_title='Density', \n",
    "    legend=dict(orientation=\"h\",\n",
    "        yanchor=\"bottom\", y=-0.5, xanchor=\"auto\",\n",
    "        entrywidth=0.33, entrywidthmode='fraction',\n",
    "        traceorder=\"normal\"),\n",
    "    height=400, # Make figure smaller by setting fixed height\n",
    "    margin=dict(l=40, r=40, t=40, b=40)\n",
    ")\n",
    "display(fig)\n",
    "# Set the size of the NGL view widget and its orientation\n",
    "view.remove_ball_and_stick()\n",
    "view.update_cartoon(color='red')\n",
    "view.add_point(selection=ngl_sel, color='blue')\n",
    "view.add_ball_and_stick(selection=ngl_hd_sel, color='green',aspect_ratio=4) # headgroups\n",
    "view.background = 'black'\n",
    "view.layout.width = '100%'\n",
    "display(view)\n",
    "view.control.spin([0, 1, 0], -1.57)  # Same orientation as the plot\n",
    "#view._remote_call('setSize', target='Widget', args=['100%', '100%'])"
   ]
  },
  {
   "cell_type": "markdown",
   "metadata": {},
   "source": [
    "<a id=\"channel\"></a>\n",
    "***\n",
    "## Channel dimensions"
   ]
  },
  {
   "cell_type": "markdown",
   "metadata": {},
   "source": [
    "A **membrane channel** or **pore** is a **passage** or **opening** formed by a **protein structure** embedded in a **biological membrane**, allowing the **selective movement** of ions, molecules, or other substances across the **membrane**. **Channels** are typically **gated**, meaning they can **open** or **close** in response to specific **signals** (such as changes in voltage, ligand binding, or mechanical stress).\n",
    "\n",
    "**MDanalysis hole** tool can be used to identify **channels** and analyze **dimensions** and **properties** along them.<br>\n",
    "***\n",
    "**Building Blocks** used:\n",
    " - [MDAHole](https://biobb-mem.readthedocs.io/en/latest/mdanalysis_biobb.html#mdanalysis_biobb.mda_hole.MDAHole) from **from biobb_mem.mdanalysis_biobb.mda_hole** \n",
    "***"
   ]
  },
  {
   "cell_type": "code",
   "execution_count": null,
   "metadata": {},
   "outputs": [],
   "source": [
    "# Import module\n",
    "from biobb_mem.mdanalysis_biobb.mda_hole import mda_hole\n",
    "\n",
    "# Create properties dict and inputs/outputs\n",
    "prop = {\n",
    "    'select': 'protein',\n",
    "    #'steps': steps,\n",
    "    'steps': 10,\n",
    "    'sample': 0.1,\n",
    "}\n",
    "\n",
    "# Create and launch bb\n",
    "mda_hole(input_top_path=pdb,\n",
    "         #input_traj_path=memb_fit_xy,\n",
    "         input_traj_path=xtc,\n",
    "         output_hole_path='out/hole.vmd',\n",
    "         output_csv_path='out/hole_profile.csv',\n",
    "         properties=prop)"
   ]
  },
  {
   "cell_type": "markdown",
   "metadata": {},
   "source": [
    "### Plotting channel dimensions\n",
    "\n",
    "A **2D plot** representing the **pore radius** along the **pore coordinate**, with the bottom representing the **cytoplasm** and the top representing the **extracellular** space."
   ]
  },
  {
   "cell_type": "code",
   "execution_count": null,
   "metadata": {},
   "outputs": [],
   "source": [
    "# Load the CSV file\n",
    "df = pd.read_csv('out/hole_profile.csv')\n",
    "frames = df['Frame'].unique()\n",
    "\n",
    "# Create a figure\n",
    "fig = go.Figure()\n",
    "\n",
    "# Add traces for each frame\n",
    "for frame in frames:\n",
    "    frame_data = df[df['Frame'] == frame]\n",
    "    fig.add_trace(go.Scatter(x=frame_data['Pore Coordinate'], y=frame_data['Radius'], mode='lines', name=f'Frame {frame}'))\n",
    "\n",
    "# Update layout\n",
    "fig.update_layout(\n",
    "    title='Pore Radius vs Pore Coordinate',\n",
    "    xaxis_title='Pore Coordinate (Å)',\n",
    "    yaxis_title='Radius (Å)',\n",
    "    legend_title='Frame'\n",
    ")\n",
    "\n",
    "# Show the figure\n",
    "fig.show()"
   ]
  },
  {
   "cell_type": "markdown",
   "metadata": {},
   "source": [
    "### Visualizing channel"
   ]
  },
  {
   "cell_type": "code",
   "execution_count": null,
   "metadata": {
    "scrolled": true
   },
   "outputs": [],
   "source": [
    "from biobb_mem.mdanalysis_biobb.mda_hole import display_hole\n",
    "display_hole(pdb, memb_fit_xy, output_hole_path='out/hole.vmd', opacity=0.9,frame=0)"
   ]
  },
  {
   "cell_type": "markdown",
   "metadata": {},
   "source": [
    "<a id=\"flip-flop\"></a>\n",
    "***\n",
    "## Flip-flop rate"
   ]
  },
  {
   "cell_type": "markdown",
   "metadata": {},
   "source": [
    "This module provides methods for detecting the **flip-flop** of molecules in a **lipid bilayer**.<br>\n",
    "A **flip-flop** occurs when a molecule (typically a sterol) moves from one **leaflet** of a **bilayer** into the **opposing leaflet**. This movement can occur spontaneously, although it is generally slow due to the **energy barrier** involved in crossing the **hydrophobic** interior of the **membrane**.<br>\n",
    "***\n",
    "**Building Blocks** used:\n",
    " - [LPPFlipFlop](https://biobb-mem.readthedocs.io/en/latest/lipyphilic_biobb.html#module-lipyphilic_biobb.lpp_flip_flop) from **from biobb_mem.lipyphilic_biobb.lpp_flip_flop**\n",
    "***"
   ]
  },
  {
   "cell_type": "code",
   "execution_count": null,
   "metadata": {},
   "outputs": [],
   "source": [
    "# Import module\n",
    "from biobb_mem.lipyphilic_biobb.lpp_flip_flop import lpp_flip_flop\n",
    "\n",
    "# Create properties dict and inputs/outputs\n",
    "prop = {\n",
    "    'lipid_sel': lipid_sel,\n",
    "    #'steps': 10,\n",
    "    'steps': steps,\n",
    "    'frame_cutoff': 2,\n",
    "    'disable_logs': True\n",
    "}\n",
    "\n",
    "# Create and launch bb\n",
    "lpp_flip_flop(input_top_path=pdb,\n",
    "              input_traj_path=memb_fit_xy,\n",
    "              input_leaflets_path='out/leaflets_data.csv',\n",
    "              output_flip_flop_path='out/flip_flop.csv',\n",
    "              properties=prop)"
   ]
  },
  {
   "cell_type": "markdown",
   "metadata": {},
   "source": [
    "***\n",
    "<a id=\"questions\"></a>\n",
    "\n",
    "## Questions & Comments\n",
    "\n",
    "Questions, issues, suggestions and comments are really welcome!\n",
    "\n",
    "* GitHub issues:\n",
    "    * [https://github.com/bioexcel/biobb](https://github.com/bioexcel/biobb)\n",
    "    * [https://github.com/bioexcel/biobb_mem](https://github.com/bioexcel/biobb_mem)\n",
    "    * [https://github.com/bioexcel/biobb_wf_mem/issues](https://github.com/bioexcel/biobb_wf_mem/issues)\n",
    "\n",
    "* BioExcel forum:\n",
    "    * [https://ask.bioexcel.eu/c/BioExcel-Building-Blocks-library](https://ask.bioexcel.eu/c/BioExcel-Building-Blocks-library)\n",
    "\n",
    "* Mail:\n",
    "    * [ruben.chaves@irbbarcelona.org](mailto:ruben.chaves@irbbarcelona.org)"
   ]
  }
 ],
 "metadata": {
  "kernelspec": {
   "display_name": "biobb_all",
   "language": "python",
   "name": "python3"
  },
  "language_info": {
   "codemirror_mode": {
    "name": "ipython",
    "version": 3
   },
   "file_extension": ".py",
   "mimetype": "text/x-python",
   "name": "python",
   "nbconvert_exporter": "python",
   "pygments_lexer": "ipython3",
   "version": "3.10.0"
  }
 },
 "nbformat": 4,
 "nbformat_minor": 4
}
